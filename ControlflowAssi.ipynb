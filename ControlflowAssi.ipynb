{
 "cells": [
  {
   "cell_type": "code",
   "execution_count": null,
   "id": "318d28a7-4e5f-453d-ba78-75238a1707d2",
   "metadata": {},
   "outputs": [],
   "source": [
    "#1. Write a Python program to check if a given number is positive or negative.\n",
    "#2. Create a program that determines if a person is eligible to vote based on their age.\n",
    "#3. Develop a program to find the maximum of two numbers using if-else statements.\n",
    "#4. Write a Python script to classify a given year as a leap year or not.\n",
    "#5. Create a program that checks whether a character is a vowel or a consonant.\n",
    "#6. Implement a program to determine whether a given number is even or odd.\n",
    "#7. Write a Python function to calculate the absolute value of a number without using the `abs()` function.\n",
    "#8. Develop a program that determines the largest of three given numbers using if-else statements.\n",
    "#9. Create a program that checks if a given string is a palindrome.\n",
    "#10. Write a Python program to calculate the grade based on a student's score."
   ]
  },
  {
   "cell_type": "code",
   "execution_count": 1,
   "id": "23018c43-bd59-4b0f-af09-e4e603877bd3",
   "metadata": {},
   "outputs": [
    {
     "name": "stdin",
     "output_type": "stream",
     "text": [
      "Enter a number:  5\n"
     ]
    },
    {
     "name": "stdout",
     "output_type": "stream",
     "text": [
      "The number is positive.\n"
     ]
    }
   ],
   "source": [
    "def check_positive_negative(num):\n",
    "    if num > 0:\n",
    "        print(\"The number is positive.\")\n",
    "    elif num == 0:\n",
    "        print(\"The number is zero.\")\n",
    "    else:\n",
    "        print(\"The number is negative.\")\n",
    "\n",
    "# Example usage:\n",
    "number = float(input(\"Enter a number: \"))\n",
    "check_positive_negative(number)\n"
   ]
  },
  {
   "cell_type": "code",
   "execution_count": 2,
   "id": "bb9fa08e-b83c-4206-9335-0c4326603967",
   "metadata": {},
   "outputs": [
    {
     "name": "stdin",
     "output_type": "stream",
     "text": [
      "Enter your age:  18\n"
     ]
    },
    {
     "name": "stdout",
     "output_type": "stream",
     "text": [
      "You are eligible to vote.\n"
     ]
    }
   ],
   "source": [
    "def check_voting_eligibility(age):\n",
    "    if age >= 18:\n",
    "        print(\"You are eligible to vote.\")\n",
    "    else:\n",
    "        print(\"You are not eligible to vote yet.\")\n",
    "\n",
    "# Example usage:\n",
    "person_age = int(input(\"Enter your age: \"))\n",
    "check_voting_eligibility(person_age)\n"
   ]
  },
  {
   "cell_type": "code",
   "execution_count": 3,
   "id": "df3b3644-68a6-44f1-9ca4-b96d991af8c0",
   "metadata": {},
   "outputs": [
    {
     "name": "stdin",
     "output_type": "stream",
     "text": [
      "Enter first number:  1\n",
      "Enter second number:  2\n"
     ]
    },
    {
     "name": "stdout",
     "output_type": "stream",
     "text": [
      "The maximum of the two numbers is: 2.0\n"
     ]
    }
   ],
   "source": [
    "def find_max(num1, num2):\n",
    "    if num1 > num2:\n",
    "        return num1\n",
    "    else:\n",
    "        return num2\n",
    "\n",
    "# Example usage:\n",
    "a = float(input(\"Enter first number: \"))\n",
    "b = float(input(\"Enter second number: \"))\n",
    "maximum = find_max(a, b)\n",
    "print(\"The maximum of the two numbers is:\", maximum)\n"
   ]
  },
  {
   "cell_type": "code",
   "execution_count": 4,
   "id": "fcff32b9-805b-4b59-b271-110198891249",
   "metadata": {},
   "outputs": [
    {
     "name": "stdin",
     "output_type": "stream",
     "text": [
      "Enter a year:  2001\n"
     ]
    },
    {
     "name": "stdout",
     "output_type": "stream",
     "text": [
      "2001 is not a leap year.\n"
     ]
    }
   ],
   "source": [
    "def check_leap_year(year):\n",
    "    if (year % 4 == 0 and year % 100 != 0) or (year % 400 == 0):\n",
    "        print(f\"{year} is a leap year.\")\n",
    "    else:\n",
    "        print(f\"{year} is not a leap year.\")\n",
    "\n",
    "# Example usage:\n",
    "input_year = int(input(\"Enter a year: \"))\n",
    "check_leap_year(input_year)\n"
   ]
  },
  {
   "cell_type": "code",
   "execution_count": 5,
   "id": "2c7fd062-1cb2-4597-a045-bbbd933a630f",
   "metadata": {},
   "outputs": [
    {
     "name": "stdin",
     "output_type": "stream",
     "text": [
      "Enter a character:  a\n"
     ]
    },
    {
     "name": "stdout",
     "output_type": "stream",
     "text": [
      "a is a vowel.\n"
     ]
    }
   ],
   "source": [
    "def check_vowel_consonant(char):\n",
    "    vowels = \"AEIOUaeiou\"\n",
    "    if char.isalpha():\n",
    "        if char in vowels:\n",
    "            print(f\"{char} is a vowel.\")\n",
    "        else:\n",
    "            print(f\"{char} is a consonant.\")\n",
    "    else:\n",
    "        print(\"Please enter an alphabet.\")\n",
    "\n",
    "# Example usage:\n",
    "character = input(\"Enter a character: \")\n",
    "check_vowel_consonant(character)\n"
   ]
  },
  {
   "cell_type": "code",
   "execution_count": 6,
   "id": "4578c573-8a19-4d2f-8917-2cbdc53e08a5",
   "metadata": {},
   "outputs": [
    {
     "name": "stdin",
     "output_type": "stream",
     "text": [
      "Enter a number:  5\n"
     ]
    },
    {
     "name": "stdout",
     "output_type": "stream",
     "text": [
      "5 is an odd number.\n"
     ]
    }
   ],
   "source": [
    "def check_even_odd(num):\n",
    "    if num % 2 == 0:\n",
    "        print(f\"{num} is an even number.\")\n",
    "    else:\n",
    "        print(f\"{num} is an odd number.\")\n",
    "\n",
    "# Example usage:\n",
    "number_to_check = int(input(\"Enter a number: \"))\n",
    "check_even_odd(number_to_check)\n"
   ]
  },
  {
   "cell_type": "code",
   "execution_count": 7,
   "id": "ee7a30ec-04b8-4413-aa45-87bd851f7c69",
   "metadata": {},
   "outputs": [
    {
     "name": "stdin",
     "output_type": "stream",
     "text": [
      "Enter a number:  8\n"
     ]
    },
    {
     "name": "stdout",
     "output_type": "stream",
     "text": [
      "The absolute value of the number is: 8.0\n"
     ]
    }
   ],
   "source": [
    "def absolute_value(num):\n",
    "    if num < 0:\n",
    "        return -num\n",
    "    else:\n",
    "        return num\n",
    "\n",
    "# Example usage:\n",
    "number_input = float(input(\"Enter a number: \"))\n",
    "absolute = absolute_value(number_input)\n",
    "print(\"The absolute value of the number is:\", absolute)\n"
   ]
  },
  {
   "cell_type": "code",
   "execution_count": 8,
   "id": "b0a32a4b-771e-4772-8fbd-3bbf723c5bde",
   "metadata": {},
   "outputs": [
    {
     "name": "stdin",
     "output_type": "stream",
     "text": [
      "Enter first number:  18\n",
      "Enter second number:  52\n",
      "Enter third number:  46\n"
     ]
    },
    {
     "name": "stdout",
     "output_type": "stream",
     "text": [
      "The largest of the three numbers is: 52.0\n"
     ]
    }
   ],
   "source": [
    "def find_largest(num1, num2, num3):\n",
    "    if num1 >= num2 and num1 >= num3:\n",
    "        return num1\n",
    "    elif num2 >= num1 and num2 >= num3:\n",
    "        return num2\n",
    "    else:\n",
    "        return num3\n",
    "\n",
    "# Example usage:\n",
    "x = float(input(\"Enter first number: \"))\n",
    "y = float(input(\"Enter second number: \"))\n",
    "z = float(input(\"Enter third number: \"))\n",
    "largest_number = find_largest(x, y, z)\n",
    "print(\"The largest of the three numbers is:\", largest_number)\n"
   ]
  },
  {
   "cell_type": "code",
   "execution_count": 10,
   "id": "a8358c82-1e58-414b-87df-415ffbabfae4",
   "metadata": {},
   "outputs": [
    {
     "name": "stdin",
     "output_type": "stream",
     "text": [
      "Enter a string:  \"ajir\"\n"
     ]
    },
    {
     "name": "stdout",
     "output_type": "stream",
     "text": [
      "\"ajir\" is not a palindrome.\n"
     ]
    }
   ],
   "source": [
    "def check_palindrome(string):\n",
    "    if string.lower() == string.lower()[::-1]:\n",
    "        print(f\"{string} is a palindrome.\")\n",
    "    else:\n",
    "        print(f\"{string} is not a palindrome.\")\n",
    "\n",
    "# Example usage:\n",
    "input_string = input(\"Enter a string: \")\n",
    "check_palindrome(input_string)\n"
   ]
  },
  {
   "cell_type": "code",
   "execution_count": 11,
   "id": "c9239950-07a2-4d9f-b88f-77ac42862174",
   "metadata": {},
   "outputs": [
    {
     "name": "stdin",
     "output_type": "stream",
     "text": [
      "Enter the student's score:  100\n"
     ]
    },
    {
     "name": "stdout",
     "output_type": "stream",
     "text": [
      "The student's grade is: A\n"
     ]
    }
   ],
   "source": [
    "def calculate_grade(score):\n",
    "    if score >= 90:\n",
    "        return 'A'\n",
    "    elif score >= 80:\n",
    "        return 'B'\n",
    "    elif score >= 70:\n",
    "        return 'C'\n",
    "    elif score >= 60:\n",
    "        return 'D'\n",
    "    else:\n",
    "        return 'F'\n",
    "\n",
    "# Example usage:\n",
    "student_score = float(input(\"Enter the student's score: \"))\n",
    "grade = calculate_grade(student_score)\n",
    "print(\"The student's grade is:\", grade)\n"
   ]
  },
  {
   "cell_type": "code",
   "execution_count": 12,
   "id": "c58d3fac-20be-44d6-aa2f-6099301db29f",
   "metadata": {},
   "outputs": [],
   "source": [
    "#11. Write a program to find the largest among three numbers using nested if-else statements.\n",
    "#12. Implement a program to determine if a triangle is equilateral, isosceles, or scalene.\n",
    "#13. Develop a program that checks if a year is a leap year and also if it is a century year.\n",
    "#14. Write a Python script to determine if a number is positive, negative, or zero.\n",
    "#15. Create a program to check if a person is a teenager (between 13 and 19 years old).\n",
    "#16. Develop a program that determines the type of angle based on its measure (acute, obtuse, or right).\n",
    "#17. Write a Python program to calculate the roots of a quadratic equation.\n",
    "#18. Implement a program to determine the day of the week based on a user-provided number (1 for Monday, 2\n",
    "#for Tuesday, etc.).\n",
    "#19. Create a program that determines if a year is a leap year and also if it is evenly divisible by 400.\n",
    "#20. Develop a program that checks if a given number is prime or not using nested if-else statements.\n",
    "#Elif Statements:\n",
    "#21. Write a Python program to assign grades based on different ranges of scores using elif statements.\n",
    "#22. Implement a program to determine the type of a triangle based on its angles.\n",
    "#23. Develop a program to categorize a given person's BMI into underweight, normal, overweight, or obese using\n",
    "#elif statements.\n",
    "#24. Create a program that determines whether a given number is positive, negative, or zero using elif\n",
    "#statements.\n",
    "#25. Write a Python script to determine the type of a character (uppercase, lowercase, or special) using elif\n",
    "#statements.\n",
    "#26. Implement a program to calculate the discounted price based on different purchase amounts using elif\n",
    "#statements.\n",
    "#27. Develop a program to calculate the electricity bill based on different consumption slabs using elif\n",
    "#statements.\n",
    "#28. Create a program to determine the type of quadrilateral based on its angles and sides using elif\n",
    "#statements.\n",
    "#29. Write a Python script to determine the season based on a user-provided month using elif statements.\n",
    "#30. Implement a program to determine the type of a year (leap or common) and month (30 or 31 days) using"
   ]
  },
  {
   "cell_type": "code",
   "execution_count": null,
   "id": "4875c5be-4d5a-4abf-b071-96db28ad6a63",
   "metadata": {},
   "outputs": [
    {
     "name": "stdin",
     "output_type": "stream",
     "text": [
      "Enter first number:  45\n",
      "Enter second number:  454\n",
      "Enter third number:  545\n"
     ]
    },
    {
     "name": "stdout",
     "output_type": "stream",
     "text": [
      "The largest of the three numbers is: 545.0\n"
     ]
    }
   ],
   "source": [
    "def find_largest(num1, num2, num3):\n",
    "    if num1 >= num2:\n",
    "        if num1 >= num3:\n",
    "            return num1\n",
    "        else:\n",
    "            return num3\n",
    "    else:\n",
    "        if num2 >= num3:\n",
    "            return num2\n",
    "        else:\n",
    "            return num3\n",
    "\n",
    "# Example usage:\n",
    "x = float(input(\"Enter first number: \"))\n",
    "y = float(input(\"Enter second number: \"))\n",
    "z = float(input(\"Enter third number: \"))\n",
    "largest_number = find_largest(x, y, z)\n",
    "print(\"The largest of the three numbers is:\", largest_number)\n"
   ]
  },
  {
   "cell_type": "code",
   "execution_count": 14,
   "id": "c7fdb589-484f-4e68-a0b2-76a9ef7ec0f0",
   "metadata": {},
   "outputs": [
    {
     "name": "stdin",
     "output_type": "stream",
     "text": [
      "Enter length of first side:  78\n",
      "Enter length of second side:  45\n",
      "Enter length of third side:  456\n"
     ]
    },
    {
     "name": "stdout",
     "output_type": "stream",
     "text": [
      "The triangle is: Scalene triangle\n"
     ]
    }
   ],
   "source": [
    "def triangle_type(a, b, c):\n",
    "    if a == b == c:\n",
    "        return \"Equilateral triangle\"\n",
    "    elif a == b or b == c or a == c:\n",
    "        return \"Isosceles triangle\"\n",
    "    else:\n",
    "        return \"Scalene triangle\"\n",
    "\n",
    "# Example usage:\n",
    "side1 = float(input(\"Enter length of first side: \"))\n",
    "side2 = float(input(\"Enter length of second side: \"))\n",
    "side3 = float(input(\"Enter length of third side: \"))\n",
    "triangle = triangle_type(side1, side2, side3)\n",
    "print(\"The triangle is:\", triangle)\n"
   ]
  },
  {
   "cell_type": "code",
   "execution_count": 15,
   "id": "c2583abd-b7bd-42c5-bc10-3a17b934f067",
   "metadata": {},
   "outputs": [
    {
     "name": "stdin",
     "output_type": "stream",
     "text": [
      "Enter a year:  1985\n"
     ]
    },
    {
     "name": "stdout",
     "output_type": "stream",
     "text": [
      "1985 is not a leap year.\n"
     ]
    }
   ],
   "source": [
    "def check_leap_year(year):\n",
    "    if (year % 4 == 0 and year % 100 != 0) or (year % 400 == 0):\n",
    "        print(f\"{year} is a leap year.\")\n",
    "        if year % 100 == 0:\n",
    "            print(f\"{year} is a century year.\")\n",
    "    else:\n",
    "        print(f\"{year} is not a leap year.\")\n",
    "\n",
    "# Example usage:\n",
    "input_year = int(input(\"Enter a year: \"))\n",
    "check_leap_year(input_year)\n"
   ]
  },
  {
   "cell_type": "code",
   "execution_count": 17,
   "id": "5467dfe1-7a94-4ce5-bf89-78fe8b03ad1c",
   "metadata": {},
   "outputs": [
    {
     "name": "stdin",
     "output_type": "stream",
     "text": [
      "Enter a number:  852456\n"
     ]
    },
    {
     "name": "stdout",
     "output_type": "stream",
     "text": [
      "The number is: Positive number\n"
     ]
    }
   ],
   "source": [
    "def check_number(num):\n",
    "    if num > 0:\n",
    "        return \"Positive number\"\n",
    "    elif num < 0:\n",
    "        return \"Negative number\"\n",
    "    else:\n",
    "        return \"Zero\"\n",
    "\n",
    "# Example usage:\n",
    "number = float(input(\"Enter a number: \"))\n",
    "result = check_number(number)\n",
    "print(\"The number is:\", result)\n"
   ]
  },
  {
   "cell_type": "code",
   "execution_count": 21,
   "id": "aff2fb78-fafd-484d-b5ea-33b01e44e3d3",
   "metadata": {},
   "outputs": [
    {
     "name": "stdin",
     "output_type": "stream",
     "text": [
      "Enter your age:  19\n"
     ]
    },
    {
     "name": "stdout",
     "output_type": "stream",
     "text": [
      "You are a teenager.\n"
     ]
    }
   ],
   "source": [
    "def is_teenager(age):\n",
    "    if age >= 13 and age <= 19:\n",
    "        return True\n",
    "    else:\n",
    "        return False\n",
    "\n",
    "# Example usage:\n",
    "person_age = int(input(\"Enter your age: \"))\n",
    "if is_teenager(person_age):\n",
    "    print(\"You are a teenager.\")\n",
    "else:\n",
    "    print(\"You are not a teenager.\")\n"
   ]
  },
  {
   "cell_type": "code",
   "execution_count": 22,
   "id": "be6527a0-8651-404a-8fbc-1fd4ca89884a",
   "metadata": {},
   "outputs": [
    {
     "name": "stdin",
     "output_type": "stream",
     "text": [
      "Enter the angle's measure:  45\n"
     ]
    },
    {
     "name": "stdout",
     "output_type": "stream",
     "text": [
      "The angle is: Acute angle\n"
     ]
    }
   ],
   "source": [
    "def angle_type(angle):\n",
    "    if angle < 90:\n",
    "        return \"Acute angle\"\n",
    "    elif angle == 90:\n",
    "        return \"Right angle\"\n",
    "    else:\n",
    "        return \"Obtuse angle\"\n",
    "\n",
    "# Example usage:\n",
    "angle_measure = float(input(\"Enter the angle's measure: \"))\n",
    "result = angle_type(angle_measure)\n",
    "print(\"The angle is:\", result)\n"
   ]
  },
  {
   "cell_type": "code",
   "execution_count": 23,
   "id": "4ef9962a-1863-458b-a2f3-7122a87aa192",
   "metadata": {},
   "outputs": [
    {
     "name": "stdin",
     "output_type": "stream",
     "text": [
      "Enter coefficient a:  5\n",
      "Enter coefficient b:  4\n",
      "Enter coefficient c:  6\n"
     ]
    },
    {
     "name": "stdout",
     "output_type": "stream",
     "text": [
      "The roots of the quadratic equation are: (-0.4+1.0198039027185568j) and (-0.4-1.0198039027185568j)\n"
     ]
    }
   ],
   "source": [
    "import cmath\n",
    "\n",
    "def quadratic_roots(a, b, c):\n",
    "    d = (b**2) - (4*a*c)\n",
    "    root1 = (-b + cmath.sqrt(d)) / (2 * a)\n",
    "    root2 = (-b - cmath.sqrt(d)) / (2 * a)\n",
    "    return root1, root2\n",
    "\n",
    "# Example usage:\n",
    "a = float(input(\"Enter coefficient a: \"))\n",
    "b = float(input(\"Enter coefficient b: \"))\n",
    "c = float(input(\"Enter coefficient c: \"))\n",
    "root1, root2 = quadratic_roots(a, b, c)\n",
    "print(\"The roots of the quadratic equation are:\", root1, \"and\", root2)\n"
   ]
  },
  {
   "cell_type": "code",
   "execution_count": 24,
   "id": "6ea5f2f2-5704-40fb-87f6-e28490d66a45",
   "metadata": {},
   "outputs": [
    {
     "name": "stdin",
     "output_type": "stream",
     "text": [
      "Enter a number (1-7):  5\n"
     ]
    },
    {
     "name": "stdout",
     "output_type": "stream",
     "text": [
      "The day of the week is: Friday\n"
     ]
    }
   ],
   "source": [
    "def find_day_of_week(day_number):\n",
    "    days = [\"Monday\", \"Tuesday\", \"Wednesday\", \"Thursday\", \"Friday\", \"Saturday\", \"Sunday\"]\n",
    "    if day_number >= 1 and day_number <= 7:\n",
    "        return days[day_number - 1]\n",
    "    else:\n",
    "        return \"Invalid input\"\n",
    "\n",
    "# Example usage:\n",
    "input_day_number = int(input(\"Enter a number (1-7): \"))\n",
    "day = find_day_of_week(input_day_number)\n",
    "print(\"The day of the week is:\", day)\n"
   ]
  },
  {
   "cell_type": "code",
   "execution_count": 25,
   "id": "435725df-1e53-4fcc-a3cf-06c56053cbf6",
   "metadata": {},
   "outputs": [
    {
     "name": "stdin",
     "output_type": "stream",
     "text": [
      "Enter a year:  1947\n"
     ]
    },
    {
     "name": "stdout",
     "output_type": "stream",
     "text": [
      "1947 is not a leap year or not divisible by 400.\n"
     ]
    }
   ],
   "source": [
    "def check_leap_year_divisible_400(year):\n",
    "    if year % 400 == 0:\n",
    "        return True\n",
    "    else:\n",
    "        return False\n",
    "\n",
    "# Example usage:\n",
    "input_year = int(input(\"Enter a year: \"))\n",
    "if check_leap_year_divisible_400(input_year):\n",
    "    print(f\"{input_year} is a leap year and divisible by 400.\")\n",
    "else:\n",
    "    print(f\"{input_year} is not a leap year or not divisible by 400.\")\n"
   ]
  },
  {
   "cell_type": "code",
   "execution_count": 26,
   "id": "2763d23d-1f2c-4aaa-91b3-acf8967a13b5",
   "metadata": {},
   "outputs": [
    {
     "name": "stdin",
     "output_type": "stream",
     "text": [
      "Enter a number:  7\n"
     ]
    },
    {
     "name": "stdout",
     "output_type": "stream",
     "text": [
      "7 is a prime number.\n"
     ]
    }
   ],
   "source": [
    "def check_prime(num):\n",
    "    if num > 1:\n",
    "        for i in range(2, int(num**0.5) + 1):\n",
    "            if num % i == 0:\n",
    "                return False\n",
    "        return True\n",
    "    else:\n",
    "        return False\n",
    "\n",
    "# Example usage:\n",
    "number_to_check = int(input(\"Enter a number: \"))\n",
    "if check_prime(number_to_check):\n",
    "    print(f\"{number_to_check} is a prime number.\")\n",
    "else:\n",
    "    print(f\"{number_to_check} is not a prime number.\")\n"
   ]
  },
  {
   "cell_type": "code",
   "execution_count": 28,
   "id": "7e07c2e4-c38f-4728-a763-c89fbee92863",
   "metadata": {},
   "outputs": [
    {
     "name": "stdin",
     "output_type": "stream",
     "text": [
      "Enter the student's score:  54\n"
     ]
    },
    {
     "name": "stdout",
     "output_type": "stream",
     "text": [
      "The student's grade is: F\n"
     ]
    }
   ],
   "source": [
    "def assign_grade(score):\n",
    "    if score >= 90:\n",
    "        return 'A'\n",
    "    elif score >= 80:\n",
    "        return 'B'\n",
    "    elif score >= 70:\n",
    "        return 'C'\n",
    "    elif score >= 60:\n",
    "        return 'D'\n",
    "    else:\n",
    "        return 'F'\n",
    "\n",
    "# Example usage:\n",
    "student_score = float(input(\"Enter the student's score: \"))\n",
    "grade = assign_grade(student_score)\n",
    "print(\"The student's grade is:\", grade)\n"
   ]
  },
  {
   "cell_type": "code",
   "execution_count": 29,
   "id": "b89b4d30-7953-4fa5-b654-0f992c8a8a77",
   "metadata": {},
   "outputs": [
    {
     "name": "stdin",
     "output_type": "stream",
     "text": [
      "Enter the first angle:  90\n",
      "Enter the second angle:  45\n",
      "Enter the third angle:  360\n"
     ]
    },
    {
     "name": "stdout",
     "output_type": "stream",
     "text": [
      "The triangle is: Scalene triangle\n"
     ]
    }
   ],
   "source": [
    "def triangle_type_angles(angle1, angle2, angle3):\n",
    "    if angle1 == angle2 == angle3 == 60:\n",
    "        return \"Equilateral triangle\"\n",
    "    elif angle1 == angle2 or angle2 == angle3 or angle1 == angle3:\n",
    "        return \"Isosceles triangle\"\n",
    "    else:\n",
    "        return \"Scalene triangle\"\n",
    "\n",
    "# Example usage:\n",
    "angle_1 = int(input(\"Enter the first angle: \"))\n",
    "angle_2 = int(input(\"Enter the second angle: \"))\n",
    "angle_3 = int(input(\"Enter the third angle: \"))\n",
    "triangle = triangle_type_angles(angle_1, angle_2, angle_3)\n",
    "print(\"The triangle is:\", triangle)\n"
   ]
  },
  {
   "cell_type": "code",
   "execution_count": 30,
   "id": "91f46470-7d07-43e0-a06e-c20530e63578",
   "metadata": {},
   "outputs": [
    {
     "name": "stdin",
     "output_type": "stream",
     "text": [
      "Enter weight in kg:  50\n",
      "Enter height in meters:  10\n"
     ]
    },
    {
     "name": "stdout",
     "output_type": "stream",
     "text": [
      "The person's BMI category is: Underweight\n"
     ]
    }
   ],
   "source": [
    "def categorize_bmi(bmi):\n",
    "    if bmi < 18.5:\n",
    "        return \"Underweight\"\n",
    "    elif bmi >= 18.5 and bmi < 25:\n",
    "        return \"Normal weight\"\n",
    "    elif bmi >= 25 and bmi < 30:\n",
    "        return \"Overweight\"\n",
    "    else:\n",
    "        return \"Obese\"\n",
    "\n",
    "# Example usage:\n",
    "person_weight = float(input(\"Enter weight in kg: \"))\n",
    "person_height = float(input(\"Enter height in meters: \"))\n",
    "person_bmi = person_weight / (person_height ** 2)\n",
    "category = categorize_bmi(person_bmi)\n",
    "print(\"The person's BMI category is:\", category)\n"
   ]
  },
  {
   "cell_type": "code",
   "execution_count": 33,
   "id": "2250881a-5de6-4a55-804b-673c52cfd246",
   "metadata": {},
   "outputs": [
    {
     "name": "stdin",
     "output_type": "stream",
     "text": [
      "Enter a number:  0\n"
     ]
    },
    {
     "name": "stdout",
     "output_type": "stream",
     "text": [
      "The number is: Zero\n"
     ]
    }
   ],
   "source": [
    "def check_number(num):\n",
    "    if num > 0:\n",
    "        return \"Positive number\"\n",
    "    elif num < 0:\n",
    "        return \"Negative number\"\n",
    "    else:\n",
    "        return \"Zero\"\n",
    "\n",
    "# Example usage:\n",
    "number = float(input(\"Enter a number: \"))\n",
    "result = check_number(number)\n",
    "print(\"The number is:\", result)\n"
   ]
  },
  {
   "cell_type": "code",
   "execution_count": 34,
   "id": "aa9a1ac4-475c-4876-8c3a-fc349e8b828c",
   "metadata": {},
   "outputs": [
    {
     "name": "stdin",
     "output_type": "stream",
     "text": [
      "Enter a character:  ajir srivastava\n"
     ]
    },
    {
     "name": "stdout",
     "output_type": "stream",
     "text": [
      "The character is: Special character\n"
     ]
    }
   ],
   "source": [
    "def check_character(char):\n",
    "    if char.isalpha():\n",
    "        if char.islower():\n",
    "            return \"Lowercase character\"\n",
    "        else:\n",
    "            return \"Uppercase character\"\n",
    "    else:\n",
    "        return \"Special character\"\n",
    "\n",
    "# Example usage:\n",
    "character = input(\"Enter a character: \")\n",
    "result = check_character(character)\n",
    "print(\"The character is:\", result)\n"
   ]
  },
  {
   "cell_type": "code",
   "execution_count": 35,
   "id": "dd55fb27-5901-4f7b-b2a9-cd209a7c61ad",
   "metadata": {},
   "outputs": [
    {
     "name": "stdin",
     "output_type": "stream",
     "text": [
      "Enter the purchase amount:  1000000\n"
     ]
    },
    {
     "name": "stdout",
     "output_type": "stream",
     "text": [
      "The discounted price is: 700000.0\n"
     ]
    }
   ],
   "source": [
    "def calculate_discount(price):\n",
    "    if price < 100:\n",
    "        return price\n",
    "    elif price >= 100 and price < 500:\n",
    "        return price * 0.9\n",
    "    elif price >= 500 and price < 1000:\n",
    "        return price * 0.8\n",
    "    else:\n",
    "        return price * 0.7\n",
    "\n",
    "# Example usage:\n",
    "amount = float(input(\"Enter the purchase amount: \"))\n",
    "discounted_price = calculate_discount(amount)\n",
    "print(\"The discounted price is:\", discounted_price)\n"
   ]
  },
  {
   "cell_type": "code",
   "execution_count": 36,
   "id": "7155afd2-34df-472d-ad9e-81ae87afc631",
   "metadata": {},
   "outputs": [
    {
     "name": "stdin",
     "output_type": "stream",
     "text": [
      "Enter the electricity consumption in units:  1000\n"
     ]
    },
    {
     "name": "stdout",
     "output_type": "stream",
     "text": [
      "The electricity bill amount is: 1345.0\n"
     ]
    }
   ],
   "source": [
    "def calculate_electricity_bill(units):\n",
    "    if units <= 50:\n",
    "        return units * 0.50\n",
    "    elif units > 50 and units <= 150:\n",
    "        return 25 + (units - 50) * 0.75\n",
    "    elif units > 150 and units <= 250:\n",
    "        return 100 + (units - 150) * 1.20\n",
    "    else:\n",
    "        return 220 + (units - 250) * 1.50\n",
    "\n",
    "# Example usage:\n",
    "consumption = float(input(\"Enter the electricity consumption in units: \"))\n",
    "bill_amount = calculate_electricity_bill(consumption)\n",
    "print(\"The electricity bill amount is:\", bill_amount)\n"
   ]
  },
  {
   "cell_type": "code",
   "execution_count": 39,
   "id": "831f97b3-7d7a-4aae-b1c0-6b109fb99b0f",
   "metadata": {},
   "outputs": [
    {
     "name": "stdin",
     "output_type": "stream",
     "text": [
      "Enter the number of sides:  4\n",
      "Enter the number of angles:  4\n"
     ]
    },
    {
     "name": "stdout",
     "output_type": "stream",
     "text": [
      "The shape is: Quadrilateral with 4 angles and sides\n"
     ]
    }
   ],
   "source": [
    "def quadrilateral_type(sides, angles):\n",
    "    if sides == 4:\n",
    "        if angles == 4:\n",
    "            return \"Quadrilateral with 4 angles and sides\"\n",
    "        elif angles == 3:\n",
    "            return \"Triangle (Not a quadrilateral)\"\n",
    "        else:\n",
    "            return \"Unknown shape\"\n",
    "    else:\n",
    "        return \"Not a quadrilateral\"\n",
    "\n",
    "# Example usage:\n",
    "num_sides = int(input(\"Enter the number of sides: \"))\n",
    "num_angles = int(input(\"Enter the number of angles: \"))\n",
    "result = quadrilateral_type(num_sides, num_angles)\n",
    "print(\"The shape is:\", result)\n"
   ]
  },
  {
   "cell_type": "code",
   "execution_count": 41,
   "id": "61241754-8b48-4256-b4e3-560a77fb838f",
   "metadata": {},
   "outputs": [
    {
     "name": "stdin",
     "output_type": "stream",
     "text": [
      "Enter the month number (1-12):  12\n"
     ]
    },
    {
     "name": "stdout",
     "output_type": "stream",
     "text": [
      "The season is: Winter\n"
     ]
    }
   ],
   "source": [
    "def find_season(month):\n",
    "    if month in [3, 4, 5]:\n",
    "        return \"Spring\"\n",
    "    elif month in [6, 7, 8]:\n",
    "        return \"Summer\"\n",
    "    elif month in [9, 10, 11]:\n",
    "        return \"Autumn\"\n",
    "    elif month in [12, 1, 2]:\n",
    "        return \"Winter\"\n",
    "    else:\n",
    "        return \"Invalid month\"\n",
    "\n",
    "# Example usage:\n",
    "input_month = int(input(\"Enter the month number (1-12): \"))\n",
    "season = find_season(input_month)\n",
    "print(\"The season is:\", season)\n"
   ]
  },
  {
   "cell_type": "code",
   "execution_count": 42,
   "id": "69b0b676-b518-4271-9a6e-6c40f8d4afef",
   "metadata": {},
   "outputs": [
    {
     "name": "stdin",
     "output_type": "stream",
     "text": [
      "Enter a year:  2027\n"
     ]
    },
    {
     "name": "stdout",
     "output_type": "stream",
     "text": [
      "2027 is not a leap year.\n"
     ]
    },
    {
     "name": "stdin",
     "output_type": "stream",
     "text": [
      "Enter the month (1-12):  12\n"
     ]
    },
    {
     "name": "stdout",
     "output_type": "stream",
     "text": [
      "The month has 31 days.\n"
     ]
    }
   ],
   "source": [
    "def check_year_type(year):\n",
    "    if (year % 4 == 0 and year % 100 != 0) or (year % 400 == 0):\n",
    "        print(f\"{year} is a leap year.\")\n",
    "    else:\n",
    "        print(f\"{year} is not a leap year.\")\n",
    "\n",
    "def check_month_days(month):\n",
    "    if month in [4, 6, 9, 11]:\n",
    "        return 30\n",
    "    elif month == 2:\n",
    "        return 28\n",
    "    else:\n",
    "        return 31\n",
    "\n",
    "# Example usage for year type check:\n",
    "input_year = int(input(\"Enter a year: \"))\n",
    "check_year_type(input_year)\n",
    "\n",
    "# Example usage for month days check:\n",
    "input_month = int(input(\"Enter the month (1-12): \"))\n",
    "days = check_month_days(input_month)\n",
    "print(f\"The month has {days} days.\")\n"
   ]
  },
  {
   "cell_type": "code",
   "execution_count": 44,
   "id": "4576cb37-5986-48dc-aa97-d031def09beb",
   "metadata": {},
   "outputs": [],
   "source": [
    "#31. Create a program that validates a password based on complexity rules (length, characters, etc.).\n",
    "#32. Develop a program that performs matrix addition and subtraction based on user input.\n",
    "#33. Write a program that calculates the greatest common divisor (GCD) of two numbers using the Euclidean\n",
    "#algorithm.\n",
    "#34. Build a program that performs matrix multiplication using nested loops and conditional statements.\n",
    "#35. Create a program that simulates a basic text-based tic-tac-toe game against the computer.\n",
    "#36. Write a program that generates Fibonacci numbers up to a specified term using iterative methods.\n",
    "#37. Develop a program that calculates the nth term of the Fibonacci sequence using memoization.\n",
    "#38. Create a program that generates a calendar for a given month and year using conditional statements.\n",
    "#39. Build a program that simulates a basic text-based blackjack game against the computer.\n",
    "#40. Write a program that generates the prime factors of a given number using trial division."
   ]
  },
  {
   "cell_type": "code",
   "execution_count": 45,
   "id": "24a35257-ab5b-4a0a-a9b2-87fc3d656b91",
   "metadata": {},
   "outputs": [
    {
     "name": "stdin",
     "output_type": "stream",
     "text": [
      "Enter your password:  91254@dhfjd\n"
     ]
    },
    {
     "name": "stdout",
     "output_type": "stream",
     "text": [
      "Password is valid.\n"
     ]
    }
   ],
   "source": [
    "def validate_password(password):\n",
    "    if len(password) < 8:\n",
    "        return \"Password must have at least 8 characters.\"\n",
    "    elif not any(char.isdigit() for char in password):\n",
    "        return \"Password must contain at least one digit.\"\n",
    "    elif not any(char.isalpha() for char in password):\n",
    "        return \"Password must contain at least one letter.\"\n",
    "    else:\n",
    "        return \"Password is valid.\"\n",
    "\n",
    "# Example usage:\n",
    "user_password = input(\"Enter your password: \")\n",
    "result = validate_password(user_password)\n",
    "print(result)\n"
   ]
  },
  {
   "cell_type": "code",
   "execution_count": 46,
   "id": "3c89247d-7c0c-494a-9ad0-01202d2124d6",
   "metadata": {},
   "outputs": [
    {
     "name": "stdout",
     "output_type": "stream",
     "text": [
      "Matrix Addition Result: [[5, 5], [5, 5]]\n",
      "Matrix Subtraction Result: [[-3, -1], [1, 3]]\n"
     ]
    }
   ],
   "source": [
    "def matrix_addition(matrix1, matrix2):\n",
    "    result = [[0 for _ in range(len(matrix1[0]))] for _ in range(len(matrix1))]\n",
    "    for i in range(len(matrix1)):\n",
    "        for j in range(len(matrix1[0])):\n",
    "            result[i][j] = matrix1[i][j] + matrix2[i][j]\n",
    "    return result\n",
    "\n",
    "def matrix_subtraction(matrix1, matrix2):\n",
    "    result = [[0 for _ in range(len(matrix1[0]))] for _ in range(len(matrix1))]\n",
    "    for i in range(len(matrix1)):\n",
    "        for j in range(len(matrix1[0])):\n",
    "            result[i][j] = matrix1[i][j] - matrix2[i][j]\n",
    "    return result\n",
    "\n",
    "# Example usage:\n",
    "matrix1 = [[1, 2], [3, 4]]\n",
    "matrix2 = [[4, 3], [2, 1]]\n",
    "addition_result = matrix_addition(matrix1, matrix2)\n",
    "subtraction_result = matrix_subtraction(matrix1, matrix2)\n",
    "print(\"Matrix Addition Result:\", addition_result)\n",
    "print(\"Matrix Subtraction Result:\", subtraction_result)\n"
   ]
  },
  {
   "cell_type": "code",
   "execution_count": 47,
   "id": "7bdc0f85-423e-47d7-a935-6090db4bd824",
   "metadata": {},
   "outputs": [
    {
     "name": "stdin",
     "output_type": "stream",
     "text": [
      "Enter first number:  45\n",
      "Enter second number:  45\n"
     ]
    },
    {
     "name": "stdout",
     "output_type": "stream",
     "text": [
      "The Greatest Common Divisor (GCD) is: 45\n"
     ]
    }
   ],
   "source": [
    "def gcd(a, b):\n",
    "    while b:\n",
    "        a, b = b, a % b\n",
    "    return a\n",
    "\n",
    "# Example usage:\n",
    "num1 = int(input(\"Enter first number: \"))\n",
    "num2 = int(input(\"Enter second number: \"))\n",
    "result = gcd(num1, num2)\n",
    "print(\"The Greatest Common Divisor (GCD) is:\", result)\n"
   ]
  },
  {
   "cell_type": "code",
   "execution_count": 48,
   "id": "8f26731d-8810-4612-a674-fad42f7da7fb",
   "metadata": {},
   "outputs": [
    {
     "name": "stdout",
     "output_type": "stream",
     "text": [
      "Matrix Multiplication Result: [[19, 22], [43, 50]]\n"
     ]
    }
   ],
   "source": [
    "def matrix_multiplication(matrix1, matrix2):\n",
    "    result = [[0 for _ in range(len(matrix2[0]))] for _ in range(len(matrix1))]\n",
    "    for i in range(len(matrix1)):\n",
    "        for j in range(len(matrix2[0])):\n",
    "            for k in range(len(matrix2)):\n",
    "                result[i][j] += matrix1[i][k] * matrix2[k][j]\n",
    "    return result\n",
    "\n",
    "# Example usage:\n",
    "matrix_a = [[1, 2], [3, 4]]\n",
    "matrix_b = [[5, 6], [7, 8]]\n",
    "multiplication_result = matrix_multiplication(matrix_a, matrix_b)\n",
    "print(\"Matrix Multiplication Result:\", multiplication_result)\n"
   ]
  },
  {
   "cell_type": "code",
   "execution_count": 54,
   "id": "88852716-cb7a-4df9-94ff-9379f8b7d06f",
   "metadata": {},
   "outputs": [
    {
     "name": "stdin",
     "output_type": "stream",
     "text": [
      "Enter the number of terms for Fibonacci sequence:  12\n"
     ]
    },
    {
     "name": "stdout",
     "output_type": "stream",
     "text": [
      "The Fibonacci sequence: [0, 1, 1, 2, 3, 5, 8, 13, 21, 34, 55, 89]\n"
     ]
    }
   ],
   "source": [
    "def generate_fibonacci(n):\n",
    "    fib_sequence = [0, 1]\n",
    "    for i in range(2, n):\n",
    "        next_term = fib_sequence[i - 1] + fib_sequence[i - 2]\n",
    "        fib_sequence.append(next_term)\n",
    "    return fib_sequence\n",
    "\n",
    "# Example usage:\n",
    "terms = int(input(\"Enter the number of terms for Fibonacci sequence: \"))\n",
    "fibonacci_sequence = generate_fibonacci(terms)\n",
    "print(\"The Fibonacci sequence:\", fibonacci_sequence)\n"
   ]
  },
  {
   "cell_type": "code",
   "execution_count": 55,
   "id": "2cef8326-be91-4820-9e8c-573cb723d84b",
   "metadata": {},
   "outputs": [
    {
     "name": "stdin",
     "output_type": "stream",
     "text": [
      "Enter a number to find its prime factors:  45\n"
     ]
    },
    {
     "name": "stdout",
     "output_type": "stream",
     "text": [
      "Prime factors of 45 are: [3, 3, 5]\n"
     ]
    }
   ],
   "source": [
    "def prime_factors(n):\n",
    "    factors = []\n",
    "    divisor = 2\n",
    "    while n > 1:\n",
    "        while n % divisor == 0:\n",
    "            factors.append(divisor)\n",
    "            n //= divisor\n",
    "        divisor += 1\n",
    "    return factors\n",
    "\n",
    "# Example usage:\n",
    "number_to_factorize = int(input(\"Enter a number to find its prime factors: \"))\n",
    "factors_list = prime_factors(number_to_factorize)\n",
    "print(\"Prime factors of\", number_to_factorize, \"are:\", factors_list)\n"
   ]
  },
  {
   "cell_type": "code",
   "execution_count": null,
   "id": "cee4d90c-1693-4ce3-bb93-cb249f728beb",
   "metadata": {},
   "outputs": [],
   "source": []
  }
 ],
 "metadata": {
  "kernelspec": {
   "display_name": "Python 3 (ipykernel)",
   "language": "python",
   "name": "python3"
  },
  "language_info": {
   "codemirror_mode": {
    "name": "ipython",
    "version": 3
   },
   "file_extension": ".py",
   "mimetype": "text/x-python",
   "name": "python",
   "nbconvert_exporter": "python",
   "pygments_lexer": "ipython3",
   "version": "3.10.8"
  }
 },
 "nbformat": 4,
 "nbformat_minor": 5
}
